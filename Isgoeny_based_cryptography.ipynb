{
  "cells": [
    {
      "cell_type": "markdown",
      "metadata": {
        "id": "GoknHGKSVuzu"
      },
      "source": [
        "# Szyfrowanie poskwantowe z użyciem izogenii - Beniamin Jankowski, Paweł Kica, Kamil Szydłowski"
      ]
    },
    {
      "attachments": {},
      "cell_type": "markdown",
      "metadata": {
        "id": "sbhgqPlVVuz0"
      },
      "source": [
        "## 1. Co to kwanty i komputery kwantowe?\n",
        "\n",
        "> **Trochę historii...**\n",
        "* W związku z rozwojem technologii, potrzebujemy coraz lepszych, skuteczniejszych i szybszych metod rozwiązywania problemów. Dochodzimy do momentu, gdzie pewne skomplikowane operacje wymagają za dużo czasu. Z pomocą fizyków kwantowych tworzono pierwsze prototypy komputerów kwantowych już w 2001 roku przez grupę informatyków i Uniwersytetu Stanford - dokonano rozkładu liczby 15 na liczby 3 oraz 5. Liczbę 21 rozłożono dopiero w 2011.\n",
        "\n",
        "![](images/first_quantum_computer.jpg)\n",
        "    \n",
        "*Pierwszy komputer kwantowy z 2011 roku stworzony przez kanadyjską firmę D-Wave Systems, Inc. - obraz ich autorstwa*\n",
        "\n",
        "> **Jak działają komputery kwantowe**\n",
        "* Komputery kwantowe działają na zasadzie mechaniki kwantowej, gdzie operujemy na tzw. *kubitach* lub *bitach kwantowych*. Jak sama nazwa mówi są to odpowiedniki bitów, natomiast posiadają niezwykłe właściwości. Powszechnie wiadomo, że bit jest reprezentowany jako 0 lub 1. Kubit z kolei może przyjmować stan pomiędzy wartością 0 a 1, może być 'trochę jedynką, trochę zerem' - jednocześnie jedynką oraz jednocześnie zerem.\n",
        "\n",
        "![wybrażenie stanu kubitu jako sfera Blocha - autorstwa Smite-Meister](images/Bloch_sphere.svg.png) \n",
        "    \n",
        "*Wybrażenie stanu kubitu jako sfera Blocha - autorstwa Smite-Meister*\n",
        "    \n",
        "* Właściwość ta nazywa się superpozycją jedynki oraz zera (tak jak w równaniach różniczkowych - jedno rozwiązanie plus drugie rozwiązanie wciąż daje rozwiązanie danego równania). W związku z tak potężną umiejętnością kubitu, jesteśmy w stanie prowadzić wiele obliczeń równolegle - tutaj skojarzenia mogą prowadzić do wielowątkowości. O stanie takiego kubitu dowiaduejmy się dopiero po jego zmierzeniu - tzn nie można wcześniej przewidzieć, czym był dany kubit. Na podobnej zasadzie możemy dążyć do generowania liczb prawdziwie-losowych na podstawie polaryzacji światła.\n",
        "\n",
        "> **Czy komputery kwantowe rzeczywiście są szybsze od współczesnych komputerów?**\n",
        "* Otóż *nie*, a przynajmniej nie do końca. Gdyby dało się przeglądać internet czy oglądać filmy na komputerze kwantowym - sam proces byłby równie szybki co na współczesnym komputerze. Prawdziwa moc komputerów kwantowych objawia się nam podczas obliczania specyficznych zależności i wykonywania konkretnych algorytmów. Dobrym przykładem jest problem faktoryzacji dużych liczb, czyli rozkładu na dwie pierwsze liczby. Superkomputery wciąż do tego problemu używają techniki brute-force, co zajmuje czas. Aktualnie problem faktoryzacji ten jest uważany za ciężki obliczeniowo, natomiast dzięki komputerom kwantowym możemy usprawnić oblcizenia stosując możliwość wykonywania wielu operacji naraz.\n",
        "\n",
        "* Załóżmy, że mamy dwa bity, czyli są cztery możliwości: 00, 10, 01, 11. Skoro kubit może być 'jednocześnie' zerem lub jedynką potrzebujemy tylko dwóch kubitów, aby posiadać cztery wymienione wyżej stany. Liczba stanów określa się za pomocą wzoru 2<sup>N</sup>, gdzie N to liczba kubitów. Na przykładzie weźmy liczbę półpierwszą (liczba iloczynu dwóch liczb pierwszych), która jest rzędu ok. 10<sup>200</sup> - zwykły komputer potrzebuje 2000 lat na odgadnięciu tych dwóch liczb pierwszych. \n",
        "\n",
        "> **Czyli udało się rozłożyć ogromne liczby pierwsze?**\n",
        "* Czysto teoretycznie jesteśmy w stanie robić *2<sup>n</sup>* zamiast *n* obliczeń za pomocą komputerów kwantowych, natomiast nie jest to zgodne ze stanem faktycznym. W 2018 roku, za pomocą 5 oraz 16 kubitów jesteśmy w stanie faktoryzować liczbe 7-cyfrową t.j. 4088459 [by IBM researchgroup](https://arxiv.org/abs/1805.10478) - warto dodać, że jest to największa dotąd rozłożona liczba półpierwsza za pomocą kwantów. W związku z tym nie jesteśmy w stanie jeszcze rozkładać ogromnych liczb pierwszych za pomocą technologii kwantowych, natomiast może to się zupełnie zmienić po wprowadzeniu teorii informatyczno-fizycznej w codzienny użytek."
      ]
    },
    {
      "cell_type": "markdown",
      "metadata": {
        "id": "vY5FOZhOVuz5"
      },
      "source": [
        "## 2. Krzywe eliptyczne\n",
        "\n",
        ">**Po co są tutaj krzywe eliptyczne?**\n",
        "\n",
        "* Aby odkryć moc Izogenii, które będą wyjaśnionie w późniejszych akapitach najpierw należy odkryć krzywe eliptyczne. Przedstawimy najprostsze i niezbędne zagadania dot. tego tematu. Na początek należy zdefiniować działania na potrzeby szyfrowania w kryptografii.\\\n",
        "Można udowodnić, że każdą krzywą eliptyczną można zapisać w postaci: y<sup>2</sup> + axy + by = x<sup>3</sup> + cx<sup>2</sup> + dx + e\n",
        "\n",
        ">**Aksjomaty**\n",
        "\n",
        "* Wprowadźmy parę rzeczy:\n",
        "\n",
        "    * Spróbujmy pododawać punkty na płaszczyźnie. Dodawanie definiujemy następująco:\\\n",
        "    Jeśli trzy punkty (A, B, C) są współliniowe to ***A + B + C = 0***.\\\n",
        "    Zatem A + B = -C => Należy zdefiniować co oznacza punkt **-C**.\n",
        "\n",
        "    * Negacją punktu nazywamy operację *odbicia* punktu względem osi O<sub>x</sub> - oznaczamy wtedy taki punkt z minusem.\n",
        "    \n",
        "Zatem jeśli mamy już te dwa działania, to wyobraźmy sobie dwa punkty i przeprowadźmy przez nią prostą. Niech te punkty należą do krzywej o równaniu y<sup>2</sup> = x<sup>3</sup> - 3x + 4. Punkty mają współrzędne A=(-2, $\\sqrt{2}$), B=(0,2). Obliczamy równanie prostej, które wraz z naszą zadaną krzywą eliptyczną tworzą układ równań, gdzie znamy już dwa rozwiązania (gdyż punkty A oraz B należą zarówno do krzywej jak i prostej). Następnie nalęzy znegować otrzymany punkt - poniżej wykres przedstawiający sytuację oraz pokazujący otrzymany punkt. Do zwizualizowania powyższej sytuacji (jak również pozostałych wykresów) użyto strony [Elliptic Curve scalar multiplication (𝔽p)](https://andrea.corbellini.name/ecc/interactive/reals-add.html))\n",
        "\n",
        "![](images/eliptic_add_basic.png)\n",
        "\n",
        "* Co jeżeli punkty się pokrywają, tzn. A = B ?\\\n",
        "    Wtedy możemy poprowadzić styczną do wykresu w tym punkcie, czyli liczenie pochodnej funkcji - *UWAGA* krzywa eliptyczna nie jest funkcją, gdyż $y = \\pm\\sqrt{x^3 - 3x + 4}$. Z tego powodu należy dopasować funkcję do podanego punktu - zależy czy rzędna punktu jest dodatnia czy ujemna. Poniżej przedstawiono dodawanie A + A, czyli 2A:\n",
        "\n",
        "    ![](images/same_point_adding.png)\n",
        "\n",
        "* Mając dodawanie różnych oraz tych samych punktów, możemy teraz zdefiniować mnożenie punktu jako $n\\ ·\\ A = A + A + ... + A$, gdzie dodajemy A do siebie n razy, czyli: $A + A = 2A$, jak również: $A + A + A = 2A + A = 3A$ itd. Poniżej przykładowe mnożenie punktu A - 5 razy.\n",
        "\n",
        "    ![](images/multi_point.png)\n",
        "\n",
        ">**Czy można <i>utrudnić</i> cały proces?**\n",
        "\n",
        "Tak, można rozważać punkty tylko w pewnym ciele. Ciało te to 𝔽p, gdzie zamiast dzielenia będziemy wyznaczać element odwrotny w tym właśnie ciele skończonym. Jak sama nazwa mówi, ma ono ograniczoną liczbę elementów. Także poruszamy się tylko po pewnch punktach po naszej krzywej, która teraz przyjęła postać: $y^2 = x^3 + Ax + B\\ mod\\ P$.\n",
        "\n",
        ">**Kolejne kroki algorytmu**\n",
        "\n",
        "* Na początku potrzebujemy rozbudowanego algorytmu Euclidesa. Ogólnie polega na znalezieniu liczb, które spełniają poniższą zależność:\\\n",
        "    ax + by = NWD(a, b) - gdzie NWD to najwięszky wspólny dzielnik liczby a oraz b.\\\n",
        "    Poniżej podano jego implementację (skorzystano z danego [pseudokodu](https://en.wikipedia.org/wiki/Extended_Euclidean_algorithm#Pseudocode))\n"
      ]
    },
    {
      "cell_type": "code",
      "execution_count": 1,
      "metadata": {
        "id": "Y3f6cl0TVuz-",
        "outputId": "e28da79c-747e-424c-d1eb-7b50dad4b088"
      },
      "outputs": [
        {
          "name": "stdout",
          "output_type": "stream",
          "text": [
            "(3, -63, 17)\n"
          ]
        }
      ],
      "source": [
        "def extended_euclidean_algorithm(a, b):\n",
        "    \n",
        "    s, old_s = 0, 1\n",
        "    t, old_t = 1, 0\n",
        "    r, old_r = b, a\n",
        "\n",
        "    while r != 0:\n",
        "        quotient = old_r // r\n",
        "        old_r, r = r, old_r - quotient * r\n",
        "        old_s, s = s, old_s - quotient * s\n",
        "        old_t, t = t, old_t - quotient * t\n",
        "\n",
        "    return old_r, old_s, old_t\n",
        "\n",
        "print(extended_euclidean_algorithm(123, 456))\n"
      ]
    },
    {
      "cell_type": "markdown",
      "metadata": {
        "id": "StrWylDDVu0D"
      },
      "source": [
        "* Następnie potrzebujemy dzielenia modulo, gdzie tak naprawdę nie istnieje takie działanie. Dlatego zamiast $\\frac{x}{y}$ będziemy używać $x\\cdot y^{-1}$. W przypadku naszego skończonego ciała $y^{-1}$ będziemy rozumieć jako element odwrotny do $y$. Do tego będzie nam słyżyć poniższa implementacja:"
      ]
    },
    {
      "cell_type": "code",
      "execution_count": 2,
      "metadata": {
        "id": "8wFI6wq-Vu0E",
        "outputId": "a896a7f2-22bb-44ba-dc3e-62b180729011"
      },
      "outputs": [
        {
          "name": "stdout",
          "output_type": "stream",
          "text": [
            "4\n"
          ]
        }
      ],
      "source": [
        "def inverse_of(n, p):\n",
        "    \n",
        "    gcd, x, y = extended_euclidean_algorithm(n, p)\n",
        "    assert (n * x + p * y) % p == gcd\n",
        "\n",
        "    if gcd != 1:\n",
        "        raise ValueError(f\"{n} has no multiplicative inverse modulo {p}\")\n",
        "    return x % p\n",
        "\n",
        "print(inverse_of(5, 19))"
      ]
    },
    {
      "attachments": {},
      "cell_type": "markdown",
      "metadata": {
        "id": "37c-DH-dVu0G"
      },
      "source": [
        "* Poniżej z kolei znajduje się implementacja punktu należącego do 𝔽p oraz znajdujący się na zadanej krzywej. W komentarza kolejno wyjaśniono kolejne funkcje. Z pewnością najważniejsza funkcja to funkcja ```__mul__```, dzięki której jesteśmy w stanie mnożyć punkty przez skalary. Użyto tutaj algorytmu, który jest optymalny z pary względów. Zamiast dodawać punkty do siebie **n** razy można skorzystać z tzw. \"double and add\", czyli można pomnożyć ten punkt razy dwa a następnie przez skalar o połowę miejszy dopóki nie uzyskamy n pomnożonego punktu. Oczywiście trzeba pamiętać o liczbach nieparzystych co zostało uzwględnione w metodzie magicznej ```__mul__```:"
      ]
    },
    {
      "cell_type": "code",
      "execution_count": 3,
      "metadata": {
        "id": "ttkJBGn_Vu0H"
      },
      "outputs": [],
      "source": [
        "class EllipticCurve():\n",
        "    # Tworzenie klasy krzywej eliptycznej\n",
        "    # z współczynnikami A, B i liczbą pierwszą p\n",
        "    def __init__(self, a, b, p):\n",
        "        self.a = a % p\n",
        "        self.b = b % p\n",
        "        self.p = p\n",
        "    \n",
        "    def a4(self):\n",
        "        return self.a\n",
        "    \n",
        "    def a6(self):\n",
        "        return self.b\n",
        "    \n",
        "    def __str__(self):\n",
        "        return f\"y^2=x^3+{self.a}x+{self.b}\"\n",
        "\n",
        "\n",
        "class Point():\n",
        "\n",
        "    # Poniżej budujemy punkt i utożsamamy go z daną krzywą\n",
        "    # Jeśli punkt nie jest określony, to ustawiamy x i y na nieskończoność - tzw. punkt w nieskończoności\n",
        "    def __init__(self, curve, x=10**12, y=10**12):\n",
        "        self.curve = curve\n",
        "        self.p = curve.p\n",
        "        self.x = x % curve.p\n",
        "        self.y = y % curve.p\n",
        "\n",
        "    \n",
        "    def __str__(self):\n",
        "        return f\"Point({self.x}, {self.y} with p={self.p})\"\n",
        "\n",
        "    def __add__(self, sec_point):\n",
        "        # sprawdzanie czy dodajemy element neutralny\n",
        "        if sec_point == Point(self.curve):\n",
        "            return self\n",
        "        \n",
        "        elif self == Point(self.curve):\n",
        "            return sec_point\n",
        "        \n",
        "         # sprawdzanie czy to ten sam punkt - czyli podwojenie go\n",
        "        if self.x == sec_point.x and self.y == sec_point.y:\n",
        "            return self.double()\n",
        "        \n",
        "        dx = sec_point.x - self.x\n",
        "        dy = sec_point.y - self.y\n",
        "\n",
        "        # nie chcemy dzilić przez 0 :(\n",
        "        if dx == 0:\n",
        "            return Point(self.curve)\n",
        "        \n",
        "        # obliczanie nachylenia, lecz zamiast dzielić przez dx, to mnożymy przez jego element odwrotny        \n",
        "        slope = (dy * inverse_of(dx, self.p)) % self.p\n",
        "        \n",
        "        x = (slope ** 2) - self.x - sec_point.x\n",
        "        y = slope * x + (self.y - slope * self.x)\n",
        "        x %= self.p\n",
        "        y %= self.p\n",
        "        \n",
        "        return Point(self.curve, x, -y)\n",
        "    \n",
        "    def __eq__(self, sec_point):\n",
        "        return self.curve == sec_point.curve and self.x == sec_point.x and self.y == sec_point.y\n",
        "    \n",
        "    def __ne__(self, sec_point):\n",
        "        return not (self == sec_point)\n",
        "        \n",
        "    def __mul__(self, scalar):\n",
        "        # funkcja jako mnożenie punktu przez skalar - czyli dodawanie\n",
        "        \n",
        "        # mnożenie przez 0 zwraca punkt w nieskończoności\n",
        "        if scalar == 0:\n",
        "            return Point(self.curve)\n",
        "        # mnożenie przez 1 zwraca ten sam punkt\n",
        "        if scalar == 1:\n",
        "            return self\n",
        "        \n",
        "         # nie dzielimy przez 0\n",
        "        if self.x == 0:\n",
        "            return Point(self.curve)\n",
        "        \n",
        "        if self.y == 0:\n",
        "            return Point(self.curve) ##!!!!!!!!!!!\n",
        "        \n",
        "        # sytuacja przy skalarze parzystym\n",
        "        if scalar % 2 == 0:\n",
        "            lambda_ = ((3 * self.x * self.x + self.curve.a) * inverse_of(2 * self.y, self.p)) % self.p\n",
        "            new_x = (lambda_ * lambda_ - 2 * self.x) % self.p\n",
        "            new_y = (lambda_ * (self.x - new_x) - self.y) % self.p\n",
        "            return Point(self.curve, new_x, new_y) * (scalar // 2)\n",
        "        \n",
        "        # pamiętać o nieparzystych skalarach - wtedy należy po prostu dodać\n",
        "        else:\n",
        "            return self + self * (scalar - 1)\n",
        "    \n",
        "    def __rmul__(self, scalar): ## to samo co mul - bez rmul mnozenie nie bylo by przemienne\n",
        "        \n",
        "        if scalar == 0:\n",
        "            return Point(self.curve)\n",
        "        if scalar == 1:\n",
        "            return self\n",
        "         # nie dzielimy przez 0\n",
        "        if self.x == 0:\n",
        "            return Point(self.curve)\n",
        "        if self.y == 0:\n",
        "            return Point(self.curve) ##!!!!!!!!!!!\n",
        "        \n",
        "        \n",
        "        if scalar % 2 == 0:\n",
        "            lambda_ = ((3 * self.x * self.x + self.curve.a) * inverse_of(2 * self.y, self.p)) % self.p\n",
        "            new_x = (lambda_ * lambda_ - 2 * self.x) % self.p\n",
        "            new_y = (lambda_ * (self.x - new_x) - self.y) % self.p\n",
        "            return Point(self.curve, new_x, new_y) * (scalar // 2)\n",
        "        \n",
        "        else:\n",
        "            return self + self * (scalar - 1)\n",
        "\n",
        "    def double(self):\n",
        "        # podwajanie punktu jako liczenie pochodnej - nachylenia stycznej\n",
        "        \n",
        "        slope = (3 * (self.x ** 2) + self.curve.a) * inverse_of(2 * self.y, self.p)\n",
        "        x = (slope ** 2) - (2 * self.x)\n",
        "        y = slope * x + (self.y - slope * self.x)\n",
        "        \n",
        "        x %= self.p\n",
        "        y %= self.p\n",
        "\n",
        "        return Point(self.curve, x, -y)\n",
        "    \n",
        "    def __getitem__(self, i):\n",
        "        # funkcja pomocnicza do późniejszych algorytmów\n",
        "\n",
        "        if i == 0:\n",
        "            return self.x\n",
        "        elif i == 1:\n",
        "            return self.y\n",
        "\n",
        "    def opposite(self):\n",
        "        # funkcja negująca\n",
        "        return Point(self.curve, self.x, -self.y)    "
      ]
    },
    {
      "cell_type": "markdown",
      "metadata": {
        "id": "DhGWEEnZVu0I"
      },
      "source": [
        "Poniżej *drobny* test funkcji dodającej oraz mnożącej przy użyciu podanych parametrów"
      ]
    },
    {
      "cell_type": "code",
      "execution_count": 4,
      "metadata": {
        "id": "b5FmG9IFVu0K",
        "outputId": "f344f3ff-f423-4189-ef51-196bea673c02"
      },
      "outputs": [
        {
          "name": "stdout",
          "output_type": "stream",
          "text": [
            "Dwa pierwsze punkty\n",
            "Point(3, 58 with p=257)\n",
            "Point(112, 141 with p=257)\n",
            "Następne punkty powinny być identyczne - mnożenie przez 6 lub dodawanie 6 razy tego samego punktu\n",
            "Point(254, 66 with p=257)\n",
            "Point(254, 66 with p=257)\n"
          ]
        }
      ],
      "source": [
        "P = 257\n",
        "A = -3\n",
        "B = 5\n",
        "\n",
        "test_el_curve = EllipticCurve(A, B, P)\n",
        "\n",
        "# punkt nalężacy do zadanej krzywej eliptycznej\n",
        "first_Point = Point(test_el_curve, 3, 58)\n",
        "\n",
        "print(\"Dwa pierwsze punkty\")\n",
        "print(first_Point)\n",
        "print(first_Point + first_Point)\n",
        "\n",
        "print(\"Następne punkty powinny być identyczne - mnożenie przez 6 lub dodawanie 6 razy tego samego punktu\")\n",
        "print(first_Point + first_Point + first_Point + first_Point + first_Point + first_Point)\n",
        "print(first_Point * 6)\n",
        "\n"
      ]
    },
    {
      "cell_type": "markdown",
      "metadata": {
        "id": "-_2olrUmVu0L"
      },
      "source": [
        ">**Wizualizacja powyższej implementacji**\n",
        "\n",
        "* Jak pamiętamy z wizualizacji, gdzie rozważaliśmy naszą krzywą eliptyczną nad ciałem ℝ, dodawanie to było odbicie punktu względem osi odciętych punktu który jako trzeci należał jednocześnie do prostej oraz krzywej eliptycznej. Poniżej wizualizacja dodawania w naszym ciele skończonym:\n",
        "\n",
        "    ![](images/eliptic_points.png)\n",
        "\n",
        "    Jak widzimy krzywa eliptyczna przyjęła postać pewnych punktów, a prosta to tak naprawdę prost**e**, którę przechodzą przez właśnie trzy punkty. Całość można porównać do poniższego rysunku torusa, gdzie prosta to tak naprawdę krzywa zakręcająca wokół niego ([źródło obrazu](https://mathematica.stackexchange.com/questions/115414/curve-wound-on-torus?noredirect=1)):\n",
        "\n",
        "    ![](images/torus.png)\n",
        "\n",
        "* Skoro nasza krzywa to teraz zbiór określonych punktów to mnożenie przez skalary punktów to poruszanie się od punktu do punktu, które to należą do naszego ciała. Poniżej przykład pewnego mnożenia:\n",
        "\n",
        "    ![](images/multi_eliptic_field.png)"
      ]
    },
    {
      "attachments": {},
      "cell_type": "markdown",
      "metadata": {
        "id": "q3UeLks2Vu0M"
      },
      "source": [
        "## 3. Izogenie\n",
        "\n",
        ">**Co to są izogenie od strony matematycznej**\n",
        "\n",
        "Aby skupić się na praktycznym wykrorzystaniem izogenii pod kątem kryptograficznym, wyjaśnimy tylko podstawowe i obowiązkowe pojęcia z tego zakresu. \n",
        "\n",
        "* Stąd izogenia to odwzorowanie pomiędzy krzywymi eliptycznymi, które łączone są za pomocą tożsamości algebraicznych. Najlepszym pokazaniem jest poniższy rysunek przedstawiający przejście z jednej krzywej do drugiej (użyto kalkulatora [Desmos](https://www.desmos.com/calculator?lang=pl))\n",
        "\n",
        "    ![](images/transistion.png)\n",
        "\n",
        ">**Dlaczego izogenie?**\n",
        "\n",
        "* Cały problem polega na znajdowaniu tych 'map', które prowadzą z jednej krzywej eliptycznej do drugiej. Problem ten to ['claw finding problem'](https://en.wikipedia.org/wiki/Claw_finding_problem), gdzie szukamy pary $(x, y)$,która spełnia $f(x)=g(y)$. Na zwykłych komputerach jest to problem o złożoności $O(\\sqrt[4]{n})$, gdzie na komputerach kwantowych wynosi ona $O(\\sqrt[6]{n})$. Sam algorytm o podanych wcześniej złożonościach, uważany do niedawna za jeszcze bezpieczny, został dokładnie opisany w późniejszej części.\n",
        "\n",
        "    ![](images/mapping.png)\n",
        "\n",
        "    *Rysunek przedstwiający kolejne przechodzenia między krzywymi ([źródło](https://www.youtube.com/watch?v=tLewR8DKJfY&t=916s))*\n",
        "\n",
        "\n",
        "\n",
        ">**Wzory Velu**\n",
        "\n",
        "* Przy późniejszych podanych algorytmach korzystamy z tzw. wzorach Velu, których temat będzie bardziej rozwijany w późniejszych częściach.\n",
        "\n",
        "* Przy podanej krzywej eliptycznej $E$ oraz pewnej skończonej podgrupie $G⊂E$, odwzorowanie $Φ(P) = (Φ_{1}(P),\\ Φ_{2}(P))$ jest odseparowaną izogenią $Φ:E\\rightarrow E'$ z [jądrem](https://en.wikipedia.org/wiki/Kernel_(algebra)) $ker\\ Φ = G$, gdzie $Φ_{1}(P),\\ Φ_{2}(P)$ to:\n",
        "\n",
        "    $Φ_{1}(P) = x(P) + \\sum_{Q\\in G\\backslash \\{O_{E}\\}} [x(P + Q) - x(P)]$\n",
        "\n",
        "    $Φ_{2}(P) = y(P) + \\sum_{Q\\in G\\backslash \\{O_{E}\\}} [y(P + Q) - y(P)]$"
      ]
    },
    {
      "cell_type": "markdown",
      "metadata": {
        "id": "bwp46mGIVu0N"
      },
      "source": [
        "### Protokoły kryptograficzne wykorzystujące izogenie\n",
        "\n",
        "Do tej pory zaproponowanych zostało kilka protokołów korzystających z izogenii. Większość z nich implementuje algorytm wymiany klucza Diffie-Hellman, zastępując tradycyjne operacje na liczbach pierwszych, które teoretycznie są możliwe do złamania za pomocą algorytmu Shore’a, operacjami opierającymi się na izogeniach między krzywymi eliptycznymi. Zaproponowany został również jeden protokół podpisu cyfrowego - SQISign, który korzysta z izogenii. W tej pracy zagłębimy się w działanie protokołów SIDH, CSIDH oraz wspomnianego wcześniej SQISign.\n",
        "\n",
        "### 3.1. SIDH - Supersingular Isogeny Diffie-Hellman\n",
        "\n",
        ">**Wstęp**\n",
        "\n",
        "Protokół SIDH został oryginalnie opracowany w 2011 roku przez matematyków Luce de Feo, Davida Jao i Jerome Pluta. Następnie wykorzystano go oraz rozwinięto by stworzyć system kryptograficzny SIKE - Supersingular Isogeny Key Encapsulation, który był rozwijany przez wielu naukowców pochodzących z firm takich jak Microsoft, Amazon, Texas Instruments oraz uniwersytetów z Francji oraz Stanów Zjednoczonych. W swojej rozwiniętej wersji trafił on do konkursu organizacji NIST, na najlepszy postkwantowy algorytm szyfrujący gdzie dotarł do czwartej rundy i wydawał się najlepszą propozycją, która korzysta z izogenii - niestety jednak został on złamany - o czym można przeczytać dalej w tej pracy i obecnie nie odnaleziono żadnych modyfikacji, które wyeliminowałyby znalezione podatności nie zmniejszając przy tym diametralnie wydajności algorytmu.\n",
        "\n",
        ">**Schemat działania**\n",
        "\n",
        "Podobnie jak oryginalny algorytm Diffiego-Hellmana SIDH strony godzą się na wspólne wartości - w tym przypadku jest to liczba pierwsza p postaci: $p=l_{A}\\ ^{e_{A}}\\cdot l_{B}\\ ^{e_{B}}\\cdot t \\pm 1$, gdzie $l_{A}=2$, $l_{B}=3$, $e_{A}$ i $e_{B}$  są dobrane tak by $l_{A}\\ ^{e_{A}} \\approx l_{B}\\ ^{e_{B}}$, a $t$ to mała liczba całkowita dobrana tak aby p była liczbą pierwszą, krzywa eliptyczna E nad ciałem Kp^2, oraz cztery ustalone punkty z krzywej $E: P_{A}, Q_{A}, P_{B}, Q_{B}$, których rzędy muszą wynosić odpowiednio dla $P_{A}$ i $Q_{A}$: $l_{A}\\ ^{e_{A}}$ oraz dla $P_{B}$ i $Q_{B}$: $l_{B}\\ ^{e_{B}}$. Następnie strony obliczają kombinację liniową ze znanych punktów, strona A: $R_{A} = mP_{A} + nQ_{A}$ , strona B: $R_{B} = kP_{B} + lQ_{B}$ liczby $m,n,k,l$ są losowo wybierane przez strony. Działanie dodawania punktów na krzywej eliptycznej jest zdefiniowane tak, że w jego wyniku na pewno otrzymamy punkt leżący na tej krzywej, z tego powodu otrzymane $R_{A}$ oraz $R_{B}$ należą do krzywej $E$, oraz grupy przez nie generowane są podgrupami grupy tworzonej przez $E$ oraz operacji dodawania punktów na krzywych. Istnieje twierdzenie mówiące, że jeśli grupa generowana przez $R$ jest podgrupą grupy z $E$, to istnieje unikalna izogenia o jądrze generowanym przez $R$. Otrzymujemy ją korzystając ze wzorów Velu, tak każda ze stroną otrzymuje swoją tajną izogenię odpowiednio $f_{A}: E\\rightarrow E_{A}$ oraz $f_{B}: E\\rightarrow E_{B}$ - co ważne strukturą algebraiczną, w której poruszamy się za pomocą obliczanych izogenii nie jest grupa a graf, którego wierzchołkami są krzywe eliptyczne - w tym nasza startowa krzywa $E$ oraz obliczone krzywe $E_{A}$ oraz $E_{B}$, a krawędzie stanowią izogenie między nimi, jest to tak zwana klasa izogenii. Odpowiednie ustalenie punktów $P_{A}, Q_{A}, P_{B}, Q_{B}$  gwarantuje, że izogenie otrzymane przez obie strony będą różne. Następnym krokiem jest obliczenie wartości izogenii dla punktów $P_{A}, Q_{A}$ przez stronę $B$ i $P_{B}$, $Q_{B}$ przez stronę $A$, a następnie przesłanie ich oraz $E_{A}$ i $E_{B}$, trójki te pełnią rolę klucza publicznego, przez kanał komunikacyjny do drugiej strony. W tym momencie strona $A$ posiada: $f_{B}(P_{A}), f_{B}(Q_{A})$, a strona $B:\\ f_{A}(P_{B}), f_{S}(Q_{B})$ następnie obliczamy kombinację liniową tych punktów wykorzystując użyte już losowe współczynniki. Strona $A: SA= mf_{B}(P_{A}) + nf_{B}(Q_{A})$, strona $B: SB= kf_{A}(P_{B}) + lf_{A}(Q_{B})$. Ponownie na podstawie przytoczonego wcześniej twierdzenia oraz wzorów Velu tworzymy nowe izogenie: $v_{A}$ o jądrze generowanym przez $S_{A}$ oraz $v_{B}$ o jądrze generowanym przez $S_{B}$, do których każda ze stron wstawia otrzymane odpowiednio $E_{A}$ lub $E_{B}$, aby otrzymać nową krzywą eliptyczną $E_{AB}$, która pełni rolę wspólnego sekretu, czyli tajnego klucza. W praktyce jako klucza używa się niezmiennika j otrzymanej krzywej, którego wartość zależy od jej współczynników.\n",
        "\n",
        "![](images/key_start.png)\n",
        "\n",
        "*schemat ustalania klucza za pomocą protokołu SIDH - De Feo, Luca; Jao, Plut. \"Towards quantum-resistant cryptosystems from supersingular elliptic curve isogenies\"*\n",
        "\n",
        ">**SIKE - Supersingular Isogeny Key Encapsulation**\n",
        "\n",
        "Powyższy opis algorytmu ustalania klucza szyfrującego możemy łatwo przekształcić w algorytm kryptografii z kluczem publicznym co autorzy uczynili i nazwali SIKE. Konstrukcja tego mechanizmu ma się do SIDH jak El-Gamal do oryginalnego protokołu Diffiego-Hellmana. Oprócz wartości startowych opisanych powyżej będziemy potrzebować jeszcze rodziny funkcji skrótu $H=\\{H_{k}\\}, k∈K$ gdzie K to skończony zbiór i dla każdego k $H_{k}$ prowadzi z ciała $F_{p^2}$ do przestrzeni wiadomości, wtedy klucz publiczny przyjmuje postać: ($E_{A}$, $f_{A}$($P_{B}$), $f_{A}$($Q_{B}$), k), gdzie krzywa eliptyczna $E_{A}$ oraz wartości izogenii $f_{A}$ dla danych punktów są obliczane tak jak w schemacie działania powyżej, a k to liczba wybrana losowo z K, klucz prywatny stanowi natomiast trójka (m, n, k), m oraz n również jak wyżej, k to liczba wybrana losowo z K, ta sama co w kluczu publicznym. Szyfrowanie wygląda następująco: posiadając klucz publiczny oraz jawną wiadomość obliczamy h jako skrót z niezmiennika j krzywej eliptycznej EAB otrzymanej jak wyżej, następnie xorujemy tą wartość z wiadomością w. $h=H_{k}(j(E_{AB}))$, c=h⊕w. Szyfrogram ma postać: ($E_{B}$, $f_{B}$($P_{A}$), $f_{B}$($Q_{A}$), $c$). Deszyfrowanie: posiadając klucz prywatny oraz szyfrogram również jesteśmy w stanie dotrzeć do krzywej eliptycznej EAB - opisane w schemacie działania - następnie możemy powtórzyć operację  h=$H_{k}$(j(EAB)) oraz odszyfrować wiadomość w ponownie działając operatorem xor: w=h⊕c, w-wiadomość w tekście jawnym.\n",
        "\n",
        ">**Jak bardzo bezpieczny jest to algortym?**\n",
        "\n",
        "SIDH zanim został złamany mógł pochwalić się zapewnieniem podobnego bezpieczeństwa - 128 bitowe bezpieczeństwo kwantowe oraz 192 bitowe bezpieczeństwo klasyczne - jak inne protokoły w konkursie NIST używając przy tym najkrótszych kluczy: 378 bajtowych kluczy publicznych oraz, w zależności od wersji, mógł korzystać z 512 bitowych, 768 bitowych lub 1024 bitowych kluczy prywatnych. Ponadto działał on bardzo szybko - poszczególne etapy algorytmu ustalania klucza, w zależności od jego długości zajmowały od ok. 25 ms dla klucza 512 bitowego do ok 120 ms dla klucza 1024 bitowego.\n",
        "\n",
        ">**Klęska protokołu SIKE** \n",
        "\n",
        "30 lipca 2022 roku pojawiła się praca naukowa autorstwa Woutera Castryka oraz Thomasa Decru z uniwersytetu w Leuven. Przedstawili oni algorytm łamiący kryptosystem SIKE. Algorytm ten opiera się na pracach naukowych na temat izogenii opracowanych przez matematyka Ernsta Kaniego w 1997 roku. Przedstawiony przez autorów atak jest możliwy do przeprowadzenia dzięki znajomości punktów na krzywych eliptycznych, oraz obrazu tych punktów dla tajnych izogenii - pełnią one rolę klucza publicznego. W produkcyjnej wersji kryptosystemu do wyliczenia swojej tajnej izogenii strony obliczały kilka pośrednich izogenii, a następnie wykorzystywano ich złożenie  - nie tak jak w schemacie powyżej, gdzie mamy tylko jedną rundę. Wiedząc jak dane punkty zachowują się po przejściu przez izogenie jesteśmy w stanie - jako atakujący odtworzyć kroki poczynione przez jedną ze stron - w praktyce atak celuje w stronę B wymiany, ale nie jest to wymagane, i w konsekwencji uzyskać jej klucz prywatny. Implementacja tego ataku przez autorów jest w stanie złamać wersję protokołu SIKEp182 - 182 bitowa liczba pierwsza - w cztery minuty, SIKEp217 w 6 minut, SIKEp434 - wersję, o której sądzono, że spełnia warunki bezpieczeństwa pierwszego poziomu NIST - w 62 minuty. Wszystkie te próby zostały wykonane na jednordzeniowym komputerze.\n",
        "\n",
        "### 3.2. CSIDH - Commutative Supersingular Isogeny Diffie-Hellman\n",
        "\n",
        ">**Wstęp**\n",
        "\n",
        "Protokół CSIDH zaproponowany przez Woutera Castrycka, Tanje Lange, Chloe Martindale, Lorenza Pannyego i Joosta Renesa naukowców z uniwersytetów z Belgii i Holandii w 2018 roku. Również działa podobnie do klasycznego algorytmu zaproponowanego przez Diffiego i Hellmana jednak w odróżnieniu od systemu SIDH jedyne informacje, z których korzystają strony przy ustalaniu klucza to duża liczba pierwsza p obliczana jako iloczyn małych nieparzystych liczb pierwszych oraz supersingularna krzywa eliptyczna E0 o ustalonym pierścieniu endomorfizmów, nie są potrzebne dodatkowe informacje na przykład o punktach na tych krzywych, jak w protokole SIDH. Cały schemat CSIDH jest oparty na modelu matematycznym opracowanym w 1997 r., korzystającym ze zwykłych (nie supersingularnych) krzywych eliptycznych, który autorzy rozbudowali.\n",
        "\n",
        ">**Schemat działania**\n",
        "\n",
        "Algorytm zaczyna się od ustalonych wartości: liczby pierwszej p, będącej iloczynem wielu małych nieparzystych liczb pierwszych oraz supersingularnej krzywej eliptycznej $E_{0}$ o ustalonym pierścieniu endomorfizmów. Generacja kluczy prywatnych polega na losowym wybraniu wartości z przedziału od -M do M, gdzie M to pewna liczba związana z rzędem grupy klas ideałów wspomnianego pierścienia. Następnie wybrany wektor $(e_{1}, … , e_{n})$, pełniący rolę klucza prywatnego, służy do skonstruowania klasy ideałów $[g]$ należącej do grupy klas ideałów wybranego pierścienia. Kluczem publicznym jest współczynnik Montgomery’ego krzywej eliptycznej otrzymanej dzięki zastosowaniu akcji $[g]$ na krzywej eliptycznej $E_{0}$. W ten sposób strona $A$ otrzymuje nową krzywą $A’ = [gA]E_{0}$ o współczynniku Montgomery’ego $A$ a strona $B$ krzywą $B’ = [gB]E_{0}$ o współczynniku $B$. Strony zamieniają się wartościami $A$ i $B$ przez kanał komunikacyjny a następnie wyliczają nową krzywą eliptyczną, strona $A: S’=[gA]B’=[gA][gB]E_{0}$, strona $B: S’=[gB]A’=[gB][gA]E_{0}$. Jak widzimy otrzymane krzywe są identyczne a rolę ustalonego tajnego klucza pełni współczynnik Montgomery’ego $S$ krzywej $S’$.\n",
        "\n",
        ">**Bezpieczeństwo**\n",
        "\n",
        "Protokół CSIDH używa jeszcze krótszych kluczy publicznych bo 64 bajtowych oferując przy tym bezpieczeństwo kwantowe na poziomie 64 bitów, a klasyczne na poziomie 128 bitów. Oferowane rozmiary kluczy prywatnych to 512 bitów, 1024 bity lub 1792 bity a czas trwania algorytmu wynosi około 80 ms.\n",
        "\n",
        "### 3.3. SQISign - Short Quaternion and Isogeny Signature\n",
        "\n",
        ">**Wstęp**\n",
        "\n",
        "Protokół ten został po raz pierwszy przedstawiony w 2020 roku przez grupę naukowców: Luce De Feo, Davida Kohela, Antonina Leroux, Christophera Petit i Benjamina Wesolowskiego z uniwersytetów we Francji, Belgii oraz Anglii. Spośród innych kandydatów na postkwantowy protokół podpisu cyfrowego wyróżnia się on kompaktowością - połączony klucz publiczny oraz podpis SQIsigna jest pięć razy mniejszy niż najbardziej kompaktowa propozycja z trzeciej rundy konkursu NIST - protokół Falcon. Jego autorzy zaproponowali nowe podejście, przenieśli problem znajdowania izogenii między dwiema krzywymi na problem związany z ideałami, rzędami, normami oraz algebrą kwaternionów. Problemy te są równoważne, jedynie poszczególne etapy zostały opisane za pomocą innych struktur matematycznych. Elementem umożliwiającym translację ze świata krzywych do świata kwaternionów jest pierścień endomorfizmów krzywej, a związek ten nazywa się zgodnością Deuringa (ang. Deuring Correspondence). Skąd takie podejście? Okazuje się, że problem postawiony w ten sposób jest prostszy do rozwiązania, ponadto został on rozwiązany i to za pomocą wydajnego algorytmu działającego w czasie wielomianowym.Algorytm ten nazywa się KLPT i został  opracowany w 2014 roku. Autorzy SQISigna rozwinęli go.\n",
        "\n",
        ">**Schemat działania**\n",
        "\n",
        "Parametry startowe: losowa liczba pierwsza p, supersingularna ustalona krzywa eliptyczna $E_{0}$ nad ciałem $F_{p^2}$ ze znanym pierścieniem endomorfizmów $O_{0}$. Generacja klucza: wybieramy losowo pewną izogenię $τ$ prowadzącą z $E_{0}$ w $E_{A}$, $τ: E_{0}\\rightarrow E_{A}$. Kluczem publicznym jest krzywa eliptyczna $E_{0}$, a kluczem prywatnym izogenia $τ$. Dowód z wiedzą zerową w tym protokole przebiega następująco: strona udowadniająca generuje losową izogenie $ψ: E_{0}\\rightarrow E_{1}$ i wysyła krzywą $E_{1}$ do strony weryfikującej, która konstruuje kolejną izogenię $φ: E_{1}\\rightarrow E_{2}$  i odsyła ją oraz $E_{2}$ do strony udowadniającej - ta posiada teraz trzy izogenie: $τ$, $ψ$ oraz $φ$, wylicza kolejną $σ$ jako złożenie: $φ\\ ◦\\ ψ\\ ◦\\ τ: E_{A}\\rightarrow E_{2}$, wysyła ją do strony weryfikującej. Ta akceptuje żądanie uwierzytelnienia jeśli otrzymana izogenia  σ faktycznie prowadzi z $E_{A}$ w $E_{2}$ w przeciwnym wypadku odrzuca żądanie.\n",
        "\n",
        "![](images/sgi_sign.png)\n",
        "\n",
        "*schemat opisanego powyżej dowodu z wiedzą zerową - New algorithms for the Deuring correspondence: SQISign twice as fast Luca De Feo, Antonin Leroux and Benjamin Wesolowski*\n",
        "\n",
        ">**Bezpieczeństwo**\n",
        "\n",
        "Protokół SQISign oferuje bezpieczeństwo klasyczne na poziomie 128 bitów, oraz postkwantowe na poziomie pierwszej kategorii NIST. Rozmiary kluczy oraz podpisu są następujące - 16 bajtowy klucz prywatny, 64 bajtowy klucz publiczny oraz 204 bajtowy podpis. Na współczesnym komputerze przedstawiony algorytm generuje klucze w około pół sekundy, podpisuje dokument w nieco ponad 2 sekundy oraz weryfikuje podpis poniżej jednej dziesiątej sekundy.\n",
        "\n",
        "\n",
        "\n",
        "\n",
        "\n"
      ]
    },
    {
      "cell_type": "markdown",
      "metadata": {
        "id": "YBwSJHuxVu0Q"
      },
      "source": [
        "##### Obliczanie rzędu punktu na krzywej\n"
      ]
    },
    {
      "cell_type": "code",
      "execution_count": 5,
      "metadata": {
        "id": "G7P-7DSDVu0Q"
      },
      "outputs": [],
      "source": [
        "def Elliptic_Point_Order(P):\n",
        "    i = 1\n",
        "    while P * i != Point(P.curve):\n",
        "        i += 1\n",
        "    return i"
      ]
    },
    {
      "cell_type": "markdown",
      "metadata": {
        "id": "TcgYd9IVVu0R"
      },
      "source": [
        "### Obliczanie niezmiennika j krzywej w postaci krótkiej Weierstrassa\n",
        "$y^2 = x^3 + a_{4}x + a_{6}, gdzie\\;a_{4}, a_{6} \\in \\mathbb{F}_{p^2}$<br>\n",
        "$b_{4}=2a_{4}$,    $b_{6}=4a_{6}$<br>\n",
        "$c_{4}=-24b_{4}$,    $c_{6}=-216b_{6}$<br>\n",
        "$d=-8b_{4}^{3}-27b_{6}^{2}$<br>\n",
        "$j=\\dfrac{c_{4}^{3}}{d}$"
      ]
    },
    {
      "cell_type": "code",
      "execution_count": 6,
      "metadata": {
        "id": "kpMZi2P-Vu0T"
      },
      "outputs": [],
      "source": [
        "def Short_Weierstrass_j_invariant(E):\n",
        "    a4 = E.a4()\n",
        "    a6 = E.a6()\n",
        "    b4 = 2 * a4\n",
        "    b6 = 4 * a6\n",
        "    c4 = -24 * b4\n",
        "    c6 = -216 * b6\n",
        "    d = -8 * b4**3 -27 * b6**2\n",
        "    j = c4**3 * inverse_of(d, E.p)\n",
        "    return j"
      ]
    },
    {
      "cell_type": "markdown",
      "metadata": {
        "id": "BJWOgFdkVu0U"
      },
      "source": [
        "##### Wzory Velu dla krzywej w postaci krótkiej Weierstrassa\n",
        "Wejście: Krzywa eliptyczna $E_1: y^2 = x^3 + dx + e$ oraz generator jądra tworzonej izogenii $R$<br> \n",
        "1. Dla wszystkich punktów wygenerowanych przez $R$, czyli wszystkich punktów z jądra izogenii: jeśli jest to punkt rzędu $2$ dodajemy go do zbioru $G_{2}$, jeśli nie to do zbioru $R_{P}$ dodajemy ten punkt a do $R_{M}$ jego element przeciwny\n",
        "2. Obliczamy zbiór $S=R_{P} \\cup G_{2}$ \n",
        "3. Dla każdego punktu $Q = (x_Q, y_Q) \\in S$:<br> \n",
        "$f_Q = 3x^2_Q + d$<br>\n",
        "$g_Q = -2y_Q$<br>\n",
        "Jeśli $Q$ jest rzędu $2$ to $v_q=f_q$, w przeciwnym wypadku $v_q=2f_q$<br>\n",
        "$u_Q = (g_Q)^2$<br>\n",
        "4. Obliczamy wartości współczynników $v$ i $w$<br>\n",
        "$v = \\sum_{Q \\in S} v_Q, \\text{    } w = \\sum_{Q \\in S} (u_Q + x_Qv_Q)$\n",
        "<br>\n",
        "5. Współczynniki wynikowej krzywej otrzymujemy w następujący sposób:<br>\n",
        "Wynikowa krzywa: $E_2: y^2 = x^3 + Dx + E$<br>\n",
        "$D=d-5v$<br>\n",
        "$E=e-7w$<br>\n",
        "6. Obraz dowolnego punktu z wejściowej krzywej $(x, y)$ jego obraz $(\\alpha, \\beta)$ po przejściu przez obliczoną izogenię jest dany wzorem:<br>\n",
        "$\\alpha = x+ \\sum_{Q \\in S} (\\frac{v_Q}{x - x_Q} + \\frac{u_Q}{(x - x_Q)^2})$<br>\n",
        "$\\beta = y - \\sum_{Q \\in S} (u_Q \\frac{2y}{(x - x_Q)^3} + v_Q\\frac{y - y_Q}{(x - x_Q)^2}- \\frac{f_Qg_Q}{(x - x_Q)^2})$"
      ]
    },
    {
      "cell_type": "code",
      "execution_count": 7,
      "metadata": {
        "id": "Hv0AVw0uVu0U"
      },
      "outputs": [],
      "source": [
        "def Short_Weierstrass_Velu(E, gen, P, Q, mode):\n",
        "    n = Elliptic_Point_Order(gen)\n",
        "    i = 1\n",
        "    g2 = []\n",
        "    rp = []\n",
        "    rm = []\n",
        "    d = E.a4()\n",
        "    e = E.a6()\n",
        "    while i != n: #partitioning points\n",
        "        pnt = i * gen\n",
        "        if pnt * 2 == Point(pnt.curve):\n",
        "            g2.append(pnt)\n",
        "        else:\n",
        "            if pnt not in rp and pnt.opposite() not in rp:\n",
        "                rp.append(pnt)\n",
        "                rm.append(pnt.opposite)\n",
        "        i += 1\n",
        "    S = g2 + rp\n",
        "    v = 0\n",
        "    w = 0\n",
        "    dPx = 0\n",
        "    dQx = 0\n",
        "    dPy = 0\n",
        "    dQy = 0\n",
        "    p = E.p\n",
        "    for point in S:\n",
        "        fq = (3 * point[0]**2 + d) \n",
        "        gq = (-2 * point[1]) \n",
        "        vq = 0\n",
        "        if point * 2 == Point(point.curve):\n",
        "            vq = fq\n",
        "        else:\n",
        "            vq = (2 * fq) \n",
        "        uq = (gq**2) \n",
        "        v += vq \n",
        "        w += (uq + point[0] * vq) \n",
        "        ############ isogeny part\n",
        "        if mode == 1:\n",
        "            dPx += vq * inverse_of(P[0] - point[0], p) + uq * inverse_of((P[0] - point[0])**2, p) \n",
        "            dQx += vq * inverse_of(Q[0] - point[0], p) + uq * inverse_of((Q[0] - point[0])**2, p)\n",
        "            dPy += uq * 2*P[1] * inverse_of((P[0] - point[0])**3, p) + (vq * (P[1] - point[1]) * inverse_of(((P[0] - point[0])**2), p)) - (fq * gq * inverse_of(((P[0] - point[0])**2), p))\n",
        "            dQy += (uq * 2*Q[1] * inverse_of(((Q[0] - point[0])**3), p)) + (vq * (Q[1] - point[1]) * inverse_of(((Q[0] - point[0])**2), p)) - (fq * gq * inverse_of(((Q[0] - point[0])**2), p))\n",
        "        ############ point image part\n",
        "    d_E = d - 5 * v \n",
        "    e_E = e - 7 * w \n",
        "    Ec = EllipticCurve(d_E, e_E, gen.p)\n",
        "    if mode == 1:\n",
        "        phi_P = Point(Ec, P[0] + dPx, P[1] - dPy)\n",
        "        phi_Q = Point(Ec, Q[0] + dQx, Q[1] - dQy)\n",
        "        return Ec, phi_P, phi_Q\n",
        "    else:\n",
        "        return Ec"
      ]
    },
    {
      "cell_type": "markdown",
      "metadata": {
        "id": "k3eGpF6FVu0W"
      },
      "source": [
        "### Procedura generacji klucza z parametrów startowych, opisana w schemacie powyżej\n",
        "Na potrzeby tej pokazowej implementacji algorytm ma tylko jedną rundę, z tego powodu jako jądro izogenii musimy wykorzystać nie punkt $R$, a punkt $K$, jest to punkt $R$ pomnożony przez odpowiedni skalar, by zredukować jego rząd do $2$ lub $3$. Jest to konieczne, ponieważ izogenie - jeśli chcemy uzyskać jakąś o dużym stopniu - musimy obliczać jako złożenie izogenii o małych stopniach. Dla parametrów pokazowych rząd punktu $R_A$ Alicji wynosi $64$ - czyli wymagane $l_A^{e_A}$, by zredukować go do $2$ mnożymy $R_A$ razy $32$. "
      ]
    },
    {
      "cell_type": "code",
      "execution_count": 8,
      "metadata": {
        "id": "0DF0UVXcVu0X"
      },
      "outputs": [],
      "source": [
        "def key_gen(m,n,P,Q,l,e,Po,Qo,E):\n",
        "    R = m*P+n*Q\n",
        "    Ec = E\n",
        "    Pi = Po\n",
        "    Qi = Qo\n",
        "    K = (l**(e-1))*R\n",
        "    Ec, Pi, Qi = Short_Weierstrass_Velu(E, K, Pi, Qi, 1)\n",
        "    return Ec, Pi, Qi"
      ]
    },
    {
      "cell_type": "markdown",
      "metadata": {
        "id": "ZfulcZNaVu0Y"
      },
      "source": [
        "### Procedura generacji klucza z parametrów publicznych, wymienionych z drugą stroną, opisana w schemacie powyżej\n",
        "$K$ służy temu samemu celowi co w komórce powyżej"
      ]
    },
    {
      "cell_type": "code",
      "execution_count": 9,
      "metadata": {
        "id": "UHdelKO1Vu0Y"
      },
      "outputs": [],
      "source": [
        "def key_derivation(m,n,l,e,E,P,Q):\n",
        "    R = m*P+n*Q\n",
        "    Ec = E\n",
        "    K = (l**(e-1))*R\n",
        "    Ec = Short_Weierstrass_Velu(Ec, K, P, Q, 0)\n",
        "    key = Short_Weierstrass_j_invariant(Ec)\n",
        "    return key"
      ]
    },
    {
      "cell_type": "markdown",
      "metadata": {
        "id": "6osSiEmEVu0a"
      },
      "source": [
        "### Funkcje pomocnicze do pierwszej części wymiany - ustalenia kluczy publicznych, inicjujący wymianę korzysta z pierwszej funkcji (Alicja), strona odpowiadająca z drugiej (Bob)"
      ]
    },
    {
      "cell_type": "code",
      "execution_count": 10,
      "metadata": {
        "id": "WPDvsUQhVu0a"
      },
      "outputs": [],
      "source": [
        "def key_gen_Alice(mA,nA):\n",
        "    return key_gen(mA,nA,PA,QA,lA,eA,PB,QB,E)\n",
        "\n",
        "def key_gen_Bob(mB,nB):\n",
        "    return key_gen(mB,nB,PB,QB,lB,eB,PA,QA,E)"
      ]
    },
    {
      "cell_type": "markdown",
      "metadata": {
        "id": "OwnlfXrAVu0b"
      },
      "source": [
        "### Funkcje pomocnicze do drugiej części wymiany - ustalenia wspólnego tajnego klucza, inicjujący wymianę korzysta z pierwszej funkcji (Alicja), strona odpowiadająca z drugiej (Bob)"
      ]
    },
    {
      "cell_type": "code",
      "execution_count": 11,
      "metadata": {
        "id": "fBn_NTDvVu0c"
      },
      "outputs": [],
      "source": [
        "def key_der_Alice(m,n,E,P,Q):\n",
        "    return key_derivation(m,n,lA,eA,E,P,Q)\n",
        "\n",
        "def key_der_Bob(m,n,E,P,Q):\n",
        "    return key_derivation(m,n,lB,eB,E,P,Q)"
      ]
    },
    {
      "cell_type": "markdown",
      "metadata": {
        "id": "ouCRUduqVu0c"
      },
      "source": [
        "### Funkcja symulująca działanie protokołu SIDH"
      ]
    },
    {
      "cell_type": "code",
      "execution_count": 12,
      "metadata": {
        "id": "PjJurdTQVu0d"
      },
      "outputs": [],
      "source": [
        "def SIDH(mA,nA,mB,nB,E):\n",
        "    In = key_gen_Alice(mA,nA)\n",
        "    print(In[0], In[1], In[2])\n",
        "    Re = key_gen_Bob(mB,nB)\n",
        "    print(Re[0], Re[1], Re[2])\n",
        "    kA = key_der_Alice(mA,nA,Re[0],Re[1],Re[2])\n",
        "    kB = key_der_Bob(mB,nB,In[0],In[1],In[2])\n",
        "    if kA == kB:\n",
        "        print(\"Wspolny tajny klucz:\", kA % E.p)\n",
        "    else:\n",
        "        return \"ERROR\""
      ]
    },
    {
      "cell_type": "markdown",
      "metadata": {
        "id": "Bjc9Vec2Vu0e"
      },
      "source": [
        "### Przykładowa instancja protkołu dla podanych parametrów\n"
      ]
    },
    {
      "cell_type": "code",
      "execution_count": 13,
      "metadata": {
        "id": "4DfgVgEBVu0e",
        "outputId": "3c2c38bd-61ee-4e45-bec5-b1b7afb99dc4"
      },
      "outputs": [
        {
          "name": "stdout",
          "output_type": "stream",
          "text": [
            "y^2=x^3+187x+0 Point(100, 111 with p=191) Point(100, 80 with p=191)\n",
            "y^2=x^3+1x+0 Point(119, 127 with p=191) Point(28, 46 with p=191)\n",
            "Wspolny tajny klucz: 9\n"
          ]
        }
      ],
      "source": [
        "lA = 2\n",
        "lB = 3\n",
        "eA = 6\n",
        "eB = 1\n",
        "f = 1\n",
        "p = (lA**eA)*(lB**eB)*f - 1 #liczba pierwsza p, tu p=191\n",
        "E = EllipticCurve(1, 0, p) #ie. y^2=x^3+x\n",
        "\n",
        "PA = Point(E, 119, 127)#zalezy nad jakim cialem, musi byc rzedu lA**eA\n",
        "QA = Point(E, 28, 46)#zalezy nad jakim cialem, musi byc rzedu lA**eA\n",
        "PB = Point(E, 46, 78)#zalezy nad jakim cialem, musi byc rzedu lB**eB\n",
        "QB = Point(E, 46, 113)#zalezy nad jakim cialem, musi byc rzedu lB**eB\n",
        "\n",
        "mA = 27\n",
        "nA = 16\n",
        "\n",
        "mB = 32\n",
        "nB = 17\n",
        "\n",
        "SIDH(mA, nA, mB, nB, E)"
      ]
    }
  ],
  "metadata": {
    "colab": {
      "provenance": []
    },
    "kernelspec": {
      "display_name": "Python 3",
      "language": "python",
      "name": "python3"
    },
    "language_info": {
      "codemirror_mode": {
        "name": "ipython",
        "version": 3
      },
      "file_extension": ".py",
      "mimetype": "text/x-python",
      "name": "python",
      "nbconvert_exporter": "python",
      "pygments_lexer": "ipython3",
      "version": "3.11.0"
    },
    "orig_nbformat": 4,
    "vscode": {
      "interpreter": {
        "hash": "98f26e2dbefc15f9c7c4aac2af27595c9f0f9205c75ac8f856ece79a0df83888"
      }
    }
  },
  "nbformat": 4,
  "nbformat_minor": 0
}
